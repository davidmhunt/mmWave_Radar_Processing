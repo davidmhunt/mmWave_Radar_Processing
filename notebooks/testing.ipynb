{
 "cells": [
  {
   "cell_type": "code",
   "execution_count": 1,
   "metadata": {},
   "outputs": [],
   "source": [
    "import sys\n",
    "import os\n",
    "\n",
    "from dotenv import load_dotenv\n",
    "load_dotenv()\n",
    "DATASET_PATH=os.getenv(\"DATASET_DIRECTORY\")\n",
    "CONFIG_DIRECTORY = os.getenv(\"CONFIG_DIRECTORY\")\n",
    "\n",
    "sys.path.append(\"../\")\n",
    "from mmwave_radar_processing.config_managers.cfgManager import ConfigManager\n",
    "from mmwave_radar_processing.datasets.CPSL_Datasets.cpsl_ds import CpslDS"
   ]
  },
  {
   "cell_type": "code",
   "execution_count": 2,
   "metadata": {},
   "outputs": [],
   "source": [
    "cfg_manager = ConfigManager()\n",
    "\n",
    "cfg_path = os.path.join(CONFIG_DIRECTORY,\"RadarHD.cfg\")\n",
    "cfg_manager.load_cfg(cfg_path)\n",
    "cfg_manager.compute_radar_perforance(profile_idx=0)"
   ]
  },
  {
   "cell_type": "code",
   "execution_count": 5,
   "metadata": {},
   "outputs": [
    {
     "name": "stdout",
     "output_type": "stream",
     "text": [
      "found 88 radar samples\n",
      "found 88 lidar samples\n",
      "found 88 camera samples\n",
      "found 88 imu (orientation only) samples\n",
      "found 88imu (full data) samples\n",
      "found 88 vehicle velocity samples\n"
     ]
    }
   ],
   "source": [
    "#load the dataset\n",
    "dataset_path = os.path.join(DATASET_PATH,\"radCloud_comp_datasets\",\"hand_waving/\")\n",
    "dataset = CpslDS(\n",
    "    dataset_path=dataset_path,\n",
    "    radar_folder=\"radar_0\",\n",
    "    lidar_folder=\"lidar\",\n",
    "    camera_folder=\"camera\",\n",
    "    imu_orientation_folder=\"imu_data\",\n",
    "    imu_full_folder=\"imu_data_full\"\n",
    ")"
   ]
  }
 ],
 "metadata": {
  "kernelspec": {
   "display_name": "mmwave-radar-processing-DXjo2hdo-py3.11",
   "language": "python",
   "name": "python3"
  },
  "language_info": {
   "codemirror_mode": {
    "name": "ipython",
    "version": 3
   },
   "file_extension": ".py",
   "mimetype": "text/x-python",
   "name": "python",
   "nbconvert_exporter": "python",
   "pygments_lexer": "ipython3",
   "version": "3.11.5"
  }
 },
 "nbformat": 4,
 "nbformat_minor": 2
}
