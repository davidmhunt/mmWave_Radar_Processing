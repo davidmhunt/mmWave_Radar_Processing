{
 "cells": [
  {
   "cell_type": "code",
   "execution_count": 1,
   "metadata": {},
   "outputs": [],
   "source": [
    "import sys\n",
    "import os\n",
    "import matplotlib.pyplot as plt\n",
    "import numpy as np\n",
    "\n",
    "from dotenv import load_dotenv\n",
    "load_dotenv()\n",
    "DATASET_PATH=os.getenv(\"DATASET_DIRECTORY\")\n",
    "CONFIG_DIRECTORY = os.getenv(\"CONFIG_DIRECTORY\")\n",
    "\n",
    "sys.path.append(\"../\")\n",
    "from mmwave_radar_processing.config_managers.cfgManager import ConfigManager\n",
    "from cpsl_datasets.cpsl_ds import CpslDS\n",
    "from mmwave_radar_processing.processors.range_azmith_resp import RangeAzimuthProcessor\n",
    "from mmwave_radar_processing.processors.range_doppler_resp import RangeDopplerProcessor\n",
    "from mmwave_radar_processing.processors.virtual_array_reformater import VirtualArrayReformatter\n",
    "from mmwave_radar_processing.plotting.plotter_mmWave_data import PlotterMmWaveData\n",
    "from mmwave_radar_processing.plotting.movies_mmWave_data import MovieGeneratorMmWaveData\n"
   ]
  },
  {
   "cell_type": "code",
   "execution_count": null,
   "metadata": {},
   "outputs": [],
   "source": [
    "cfg_manager = ConfigManager()\n",
    "\n",
    "cfg_path = os.path.join(CONFIG_DIRECTORY,\"RadarHD.cfg\")\n",
    "cfg_manager.load_cfg(cfg_path)\n",
    "cfg_manager.compute_radar_perforance(profile_idx=0)"
   ]
  },
  {
   "cell_type": "code",
   "execution_count": null,
   "metadata": {},
   "outputs": [],
   "source": [
    "#load the dataset\n",
    "dataset_name = \"cpsl_RadarHD\"\n",
    "dataset_path = os.path.join(DATASET_PATH,\"radarHD_comp_datasets\",dataset_name)\n",
    "dataset = CpslDS(\n",
    "    dataset_path=dataset_path,\n",
    "    radar_folder=\"radar_0\",\n",
    "    lidar_folder=\"lidar\",\n",
    "    camera_folder=\"camera\",\n",
    "    imu_orientation_folder=\"imu_data\",\n",
    "    imu_full_folder=\"imu_data_full\"\n",
    ")"
   ]
  },
  {
   "cell_type": "code",
   "execution_count": null,
   "metadata": {},
   "outputs": [],
   "source": [
    "#load the plotter\n",
    "plotter = PlotterMmWaveData(config_manager=cfg_manager)\n",
    "\n",
    "#initialize a range azimuth processor\n",
    "range_az_processor = RangeAzimuthProcessor(\n",
    "    config_manager=cfg_manager,\n",
    "    num_angle_bins=64\n",
    ")\n",
    "\n",
    "#initialize the range doppler processor\n",
    "range_doppler_processor = RangeDopplerProcessor(\n",
    "    config_manager=cfg_manager\n",
    ")\n",
    "\n",
    "#load the ADC data reformatter\n",
    "virtual_array_reformatter = VirtualArrayReformatter(config_manager=cfg_manager)\n",
    "\n",
    "#initialize the movie generator\n",
    "movie_generator = MovieGeneratorMmWaveData(\n",
    "    cpsl_dataset=dataset,\n",
    "    plotter=plotter,\n",
    "    range_azimuth_processor=range_az_processor,\n",
    "    range_doppler_processor=range_doppler_processor,\n",
    "    virtual_array_reformatter=virtual_array_reformatter,\n",
    "    temp_dir_path=os.getenv(\"MOVIE_TEMP_DIRECTORY\")\n",
    ")"
   ]
  },
  {
   "cell_type": "code",
   "execution_count": null,
   "metadata": {},
   "outputs": [],
   "source": [
    "#for getting access to the adc cube\n",
    "adc_cube = dataset.get_radar_data(idx=0)\n",
    "\n",
    "adc_cube = virtual_array_reformatter.process(adc_cube)\n",
    "\n",
    "#for computing the raw responses\n",
    "rng_az_resp = range_az_processor.process(adc_cube=adc_cube,chirp_idx=0)\n",
    "rng_dop_resp = range_doppler_processor.process(adc_cube=adc_cube,rx_idx=0)\n",
    "\n",
    "\n",
    "#for generating a compilation of plots\n",
    "fig,axs=plt.subplots(2,2, figsize=(10,10))\n",
    "fig.subplots_adjust(wspace=0.3,hspace=0.30)\n",
    "\n",
    "plotter.plot_compilation(\n",
    "    adc_cube=adc_cube,\n",
    "    range_doppler_processor=range_doppler_processor,\n",
    "    range_azimuth_processor=range_az_processor,\n",
    "    convert_to_dB=True,\n",
    "    cmap=\"viridis\",\n",
    "    chirp_idx=0,\n",
    "    rx_antenna_idx=0,\n",
    "    axs=axs,\n",
    "    show=True\n",
    ")"
   ]
  },
  {
   "cell_type": "code",
   "execution_count": null,
   "metadata": {},
   "outputs": [],
   "source": [
    "#generate the movie - initialize the figure\n",
    "movie_generator.initialize_figure(nrows=2,ncols=2,figsize=(10,10))\n",
    "\n",
    "#generate the movie frames\n",
    "movie_generator.generate_movie_frames(\n",
    "    chirp_idx=0,\n",
    "    rx_antenna_idx=0,\n",
    "    cmap=\"viridis\",\n",
    "    convert_to_dB=True\n",
    ")\n",
    "\n",
    "fps = 1 / (1e-3 * cfg_manager.frameCfg_periodicity_ms)\n",
    "movie_generator.save_movie(video_file_name=\"{}.mp4\".format(dataset_name),fps=fps)"
   ]
  }
 ],
 "metadata": {
  "kernelspec": {
   "display_name": "mmwave-radar-processing-DXjo2hdo-py3.11",
   "language": "python",
   "name": "python3"
  },
  "language_info": {
   "codemirror_mode": {
    "name": "ipython",
    "version": 3
   },
   "file_extension": ".py",
   "mimetype": "text/x-python",
   "name": "python",
   "nbconvert_exporter": "python",
   "pygments_lexer": "ipython3",
   "version": "3.11.5"
  }
 },
 "nbformat": 4,
 "nbformat_minor": 2
}
